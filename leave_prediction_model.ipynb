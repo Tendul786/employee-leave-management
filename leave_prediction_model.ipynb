{
  "nbformat": 4,
  "nbformat_minor": 0,
  "metadata": {
    "colab": {
      "provenance": []
    },
    "kernelspec": {
      "name": "python3",
      "display_name": "Python 3"
    },
    "language_info": {
      "name": "python"
    }
  },
  "cells": [
    {
      "cell_type": "code",
      "execution_count": null,
      "metadata": {
        "id": "bJ10S2_Dp6LM"
      },
      "outputs": [],
      "source": [
        "# Leave Prediction using Simple Linear Regression (Mocked Data)\n",
        "\n",
        "import numpy as np\n",
        "import matplotlib.pyplot as plt\n",
        "from sklearn.linear_model import LinearRegression\n",
        "\n",
        "# Example past data: number of leaves taken in past 6 months\n",
        "months = np.array([1, 2, 3, 4, 5, 6]).reshape(-1, 1)  # month index\n",
        "leaves_taken = np.array([2, 2.5, 3, 3.5, 3.5, 4])  # leaves taken per month\n",
        "\n",
        "# Create and train the model\n",
        "model = LinearRegression()\n",
        "model.fit(months, leaves_taken)\n",
        "\n",
        "# Predict leaves for next month (month 7)\n",
        "next_month = np.array([[7]])\n",
        "predicted_leaves = model.predict(next_month)\n",
        "\n",
        "print(f\"✅ Predicted leave days for next month: {predicted_leaves[0]:.1f} days\")\n"
      ]
    }
  ]
}